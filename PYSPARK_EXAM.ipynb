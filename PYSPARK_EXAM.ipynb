{
  "nbformat": 4,
  "nbformat_minor": 0,
  "metadata": {
    "colab": {
      "name": "PYSPARK EXAM",
      "provenance": []
    },
    "kernelspec": {
      "name": "python3",
      "display_name": "Python 3"
    },
    "language_info": {
      "name": "python"
    }
  },
  "cells": [
    {
      "cell_type": "code",
      "source": [
        "pip install pyspark"
      ],
      "metadata": {
        "colab": {
          "base_uri": "https://localhost:8080/"
        },
        "id": "7GNqRSzlbIKE",
        "outputId": "0cc9bc2b-fb3c-4d0b-9b94-e0ad987daf86"
      },
      "execution_count": null,
      "outputs": [
        {
          "output_type": "stream",
          "name": "stdout",
          "text": [
            "Looking in indexes: https://pypi.org/simple, https://us-python.pkg.dev/colab-wheels/public/simple/\n",
            "Collecting pyspark\n",
            "  Downloading pyspark-3.3.0.tar.gz (281.3 MB)\n",
            "\u001b[K     |████████████████████████████████| 281.3 MB 43 kB/s \n",
            "\u001b[?25hCollecting py4j==0.10.9.5\n",
            "  Downloading py4j-0.10.9.5-py2.py3-none-any.whl (199 kB)\n",
            "\u001b[K     |████████████████████████████████| 199 kB 47.0 MB/s \n",
            "\u001b[?25hBuilding wheels for collected packages: pyspark\n",
            "  Building wheel for pyspark (setup.py) ... \u001b[?25l\u001b[?25hdone\n",
            "  Created wheel for pyspark: filename=pyspark-3.3.0-py2.py3-none-any.whl size=281764026 sha256=92a061e941487d3b0f16c0074a0ed2fffe53f025f66ef182853563aed5098966\n",
            "  Stored in directory: /root/.cache/pip/wheels/7a/8e/1b/f73a52650d2e5f337708d9f6a1750d451a7349a867f928b885\n",
            "Successfully built pyspark\n",
            "Installing collected packages: py4j, pyspark\n",
            "Successfully installed py4j-0.10.9.5 pyspark-3.3.0\n"
          ]
        }
      ]
    },
    {
      "cell_type": "code",
      "execution_count": null,
      "metadata": {
        "id": "cHRemicxZHMy"
      },
      "outputs": [],
      "source": [
        "import pandas as pd\n",
        "import numpy as np\n",
        "from pyspark.sql import SparkSession"
      ]
    },
    {
      "cell_type": "code",
      "source": [
        "spark=SparkSession.builder.appName('Questions').getOrCreate()"
      ],
      "metadata": {
        "id": "7nbb2Fgyac19"
      },
      "execution_count": null,
      "outputs": []
    },
    {
      "cell_type": "code",
      "source": [
        "spark"
      ],
      "metadata": {
        "colab": {
          "base_uri": "https://localhost:8080/",
          "height": 219
        },
        "id": "uRMfl4dEakvX",
        "outputId": "c9c0548e-d2f0-4c65-e6f9-6a333d427c26"
      },
      "execution_count": null,
      "outputs": [
        {
          "output_type": "execute_result",
          "data": {
            "text/plain": [
              "<pyspark.sql.session.SparkSession at 0x7f9478fa6d10>"
            ],
            "text/html": [
              "\n",
              "            <div>\n",
              "                <p><b>SparkSession - in-memory</b></p>\n",
              "                \n",
              "        <div>\n",
              "            <p><b>SparkContext</b></p>\n",
              "\n",
              "            <p><a href=\"http://512b440b89c9:4040\">Spark UI</a></p>\n",
              "\n",
              "            <dl>\n",
              "              <dt>Version</dt>\n",
              "                <dd><code>v3.3.0</code></dd>\n",
              "              <dt>Master</dt>\n",
              "                <dd><code>local[*]</code></dd>\n",
              "              <dt>AppName</dt>\n",
              "                <dd><code>Questions</code></dd>\n",
              "            </dl>\n",
              "        </div>\n",
              "        \n",
              "            </div>\n",
              "        "
            ]
          },
          "metadata": {},
          "execution_count": 5
        }
      ]
    },
    {
      "cell_type": "markdown",
      "source": [
        "\n",
        "# Q.1. Read the given CSV file in a Hive table \n"
      ],
      "metadata": {
        "id": "pwHDRwChfgPK"
      }
    },
    {
      "cell_type": "markdown",
      "source": [
        "\n",
        "# Q2. Read the data from Hive table as spark dataframe"
      ],
      "metadata": {
        "id": "_jtYQ5cbfsU4"
      }
    },
    {
      "cell_type": "code",
      "source": [
        "df= spark.read.csv('/content/boston.csv',header='true', inferSchema='true')\n",
        "df.show()"
      ],
      "metadata": {
        "colab": {
          "base_uri": "https://localhost:8080/"
        },
        "id": "GPa18K05bjG7",
        "outputId": "4e903cda-4b08-4d37-f2fb-992a0fb5f9b6"
      },
      "execution_count": null,
      "outputs": [
        {
          "output_type": "stream",
          "name": "stdout",
          "text": [
            "+-----------+----+-----------+----+-----------+-----------+-----------+-----------+---+---+-----------+-----------+-----------+-----------+\n",
            "|       CRIM|  ZN|      INDUS|CHAS|        NOX|         RM|        AGE|        DIS|RAD|TAX|         PT|          B|      LSTAT|         MV|\n",
            "+-----------+----+-----------+----+-----------+-----------+-----------+-----------+---+---+-----------+-----------+-----------+-----------+\n",
            "|    0.00632|18.0|2.309999943|   0|0.537999988|6.574999809|65.19999695|4.090000153|  1|296|15.30000019|396.8999939|4.980000019|       24.0|\n",
            "|0.027310001| 0.0|7.070000172|   0|0.469000012|6.421000004|78.90000153|4.967100143|  2|242|17.79999924|396.8999939|9.140000343|21.60000038|\n",
            "|    0.02729| 0.0|7.070000172|   0|0.469000012|7.184999943|61.09999847|4.967100143|  2|242|17.79999924|392.8299866| 4.03000021|34.70000076|\n",
            "|0.032370001| 0.0|2.180000067|   0|0.458000004|6.998000145|45.79999924|6.062200069|  3|222|18.70000076|394.6300049|2.940000057|33.40000153|\n",
            "|0.069049999| 0.0|2.180000067|   0|0.458000004|7.146999836|54.20000076|6.062200069|  3|222|18.70000076|396.8999939|5.329999924|36.20000076|\n",
            "|0.029850001| 0.0|2.180000067|   0|0.458000004|6.429999828|58.70000076|6.062200069|  3|222|18.70000076|394.1199951|5.210000038|28.70000076|\n",
            "|0.088289998|12.5|7.869999886|   0|0.523999989|6.012000084|66.59999847|5.560500145|  5|311|15.19999981|395.6000061|12.43000031|22.89999962|\n",
            "|0.144549996|12.5|7.869999886|   0|0.523999989|6.171999931|96.09999847|5.950500011|  5|311|15.19999981|396.8999939|19.14999962|27.10000038|\n",
            "|0.211239994|12.5|7.869999886|   0|0.523999989|5.631000042|      100.0|6.082099915|  5|311|15.19999981|386.6300049|29.93000031|       16.5|\n",
            "|0.170039997|12.5|7.869999886|   0|0.523999989|6.004000187|85.90000153|6.592100143|  5|311|15.19999981|386.7099915|17.10000038|18.89999962|\n",
            "|0.224889994|12.5|7.869999886|   0|0.523999989|6.376999855|94.30000305|6.346700191|  5|311|15.19999981| 392.519989|20.45000076|       15.0|\n",
            "|0.117470004|12.5|7.869999886|   0|0.523999989|6.008999825|82.90000153|6.226699829|  5|311|15.19999981|396.8999939|13.27000046|18.89999962|\n",
            "|0.093780003|12.5|7.869999886|   0|0.523999989|5.888999939|       39.0|5.450900078|  5|311|15.19999981|      390.5|15.71000004|21.70000076|\n",
            "|0.629760027| 0.0|8.140000343|   0|0.537999988|5.948999882|61.79999924|4.707499981|  4|307|       21.0|396.8999939|8.260000229|20.39999962|\n",
            "|0.637960017| 0.0|8.140000343|   0|0.537999988|6.096000195|       84.5|4.461900234|  4|307|       21.0| 380.019989|10.26000023|18.20000076|\n",
            "|0.627390027| 0.0|8.140000343|   0|0.537999988|5.834000111|       56.5|4.498600006|  4|307|       21.0|395.6199951|8.470000267|19.89999962|\n",
            "|1.053930044| 0.0|8.140000343|   0|0.537999988|5.934999943|29.29999924|4.498600006|  4|307|       21.0|386.8500061|6.579999924|23.10000038|\n",
            "|0.784200013| 0.0|8.140000343|   0|0.537999988|5.989999771|81.69999695|4.257900238|  4|307|       21.0|     386.75|14.67000008|       17.5|\n",
            "|0.802709997| 0.0|8.140000343|   0|0.537999988|5.455999851|36.59999847|3.796499968|  4|307|       21.0|288.9899902|11.68999958|20.20000076|\n",
            "|0.725799978| 0.0|8.140000343|   0|0.537999988|5.727000237|       69.5|3.796499968|  4|307|       21.0|390.9500122|11.27999973|18.20000076|\n",
            "+-----------+----+-----------+----+-----------+-----------+-----------+-----------+---+---+-----------+-----------+-----------+-----------+\n",
            "only showing top 20 rows\n",
            "\n"
          ]
        }
      ]
    },
    {
      "cell_type": "markdown",
      "source": [
        "# Q3. Get the correlation between dependent and independent variables"
      ],
      "metadata": {
        "id": "7hLM4i1Vf68l"
      }
    },
    {
      "cell_type": "code",
      "source": [
        "import six\n",
        "for i in df.columns:\n",
        "    if not( isinstance(df.select(i).take(1)[0][0], six.string_types)):\n",
        "        print( \"Correlation to MV for \", i, df.stat.corr('MV',i))"
      ],
      "metadata": {
        "colab": {
          "base_uri": "https://localhost:8080/"
        },
        "id": "SVn9dqrZbqUV",
        "outputId": "71bf1970-fb2e-4aae-866e-2e96ac36ac54"
      },
      "execution_count": null,
      "outputs": [
        {
          "output_type": "stream",
          "name": "stdout",
          "text": [
            "Correlation to MV for  CRIM -0.3883046116575088\n",
            "Correlation to MV for  ZN 0.36044534463752903\n",
            "Correlation to MV for  INDUS -0.48372517128143383\n",
            "Correlation to MV for  CHAS 0.17526017775291847\n",
            "Correlation to MV for  NOX -0.4273207763683772\n",
            "Correlation to MV for  RM 0.695359937127267\n",
            "Correlation to MV for  AGE -0.37695456714288667\n",
            "Correlation to MV for  DIS 0.24992873873512172\n",
            "Correlation to MV for  RAD -0.3816262315669168\n",
            "Correlation to MV for  TAX -0.46853593528654536\n",
            "Correlation to MV for  PT -0.5077867038116085\n",
            "Correlation to MV for  B 0.3334608226834164\n",
            "Correlation to MV for  LSTAT -0.7376627294671615\n",
            "Correlation to MV for  MV 1.0\n"
          ]
        }
      ]
    },
    {
      "cell_type": "code",
      "source": [
        "from pyspark.ml.feature import VectorAssembler\n",
        "vectorAssembler = VectorAssembler(inputCols = ['CRIM', 'ZN', 'INDUS', 'CHAS', 'NOX', 'RM', 'AGE', 'DIS', 'RAD', 'TAX', 'PT', 'B', 'LSTAT'], outputCol = 'features')\n"
      ],
      "metadata": {
        "id": "U9Xh4UT3cmO-"
      },
      "execution_count": null,
      "outputs": []
    },
    {
      "cell_type": "code",
      "source": [
        "vhousedf = vectorAssembler.transform(df)\n"
      ],
      "metadata": {
        "id": "EgmcFO1KddVM"
      },
      "execution_count": null,
      "outputs": []
    },
    {
      "cell_type": "code",
      "source": [
        "vhousedf =vhousedf.select(['features', 'MV'])\n",
        "vhousedf.show()"
      ],
      "metadata": {
        "colab": {
          "base_uri": "https://localhost:8080/"
        },
        "id": "PbVn_p2BdBam",
        "outputId": "5858fa42-377e-4773-cf8b-70ffccd6066a"
      },
      "execution_count": null,
      "outputs": [
        {
          "output_type": "stream",
          "name": "stdout",
          "text": [
            "+--------------------+-----------+\n",
            "|            features|         MV|\n",
            "+--------------------+-----------+\n",
            "|[0.00632,18.0,2.3...|       24.0|\n",
            "|[0.027310001,0.0,...|21.60000038|\n",
            "|[0.02729,0.0,7.07...|34.70000076|\n",
            "|[0.032370001,0.0,...|33.40000153|\n",
            "|[0.069049999,0.0,...|36.20000076|\n",
            "|[0.029850001,0.0,...|28.70000076|\n",
            "|[0.088289998,12.5...|22.89999962|\n",
            "|[0.144549996,12.5...|27.10000038|\n",
            "|[0.211239994,12.5...|       16.5|\n",
            "|[0.170039997,12.5...|18.89999962|\n",
            "|[0.224889994,12.5...|       15.0|\n",
            "|[0.117470004,12.5...|18.89999962|\n",
            "|[0.093780003,12.5...|21.70000076|\n",
            "|[0.629760027,0.0,...|20.39999962|\n",
            "|[0.637960017,0.0,...|18.20000076|\n",
            "|[0.627390027,0.0,...|19.89999962|\n",
            "|[1.053930044,0.0,...|23.10000038|\n",
            "|[0.784200013,0.0,...|       17.5|\n",
            "|[0.802709997,0.0,...|20.20000076|\n",
            "|[0.725799978,0.0,...|18.20000076|\n",
            "+--------------------+-----------+\n",
            "only showing top 20 rows\n",
            "\n"
          ]
        }
      ]
    },
    {
      "cell_type": "markdown",
      "source": [
        "# Q4. Build a linear regression model to predict house price"
      ],
      "metadata": {
        "id": "AKRHhXiOgEvk"
      }
    },
    {
      "cell_type": "code",
      "source": [
        "splits = vhousedf.randomSplit([0.7, 0.3])\n",
        "train= splits[0]\n",
        "test = splits[1]"
      ],
      "metadata": {
        "id": "2guzwKyCdf4p"
      },
      "execution_count": null,
      "outputs": []
    },
    {
      "cell_type": "code",
      "source": [
        "from pyspark.ml.regression import LinearRegression\n",
        "l = LinearRegression(featuresCol = 'features', labelCol='MV', maxIter=10, regParam=0.3, elasticNetParam=0.8)\n",
        "model = l.fit(train)\n",
        "print(\"Coefficients: \" + str(model.coefficients))\n",
        "print(\"Intercept: \" + str(model.intercept))"
      ],
      "metadata": {
        "colab": {
          "base_uri": "https://localhost:8080/"
        },
        "id": "PmDukHE2e9Ui",
        "outputId": "f828de7e-ff4c-4342-9d54-6594829e3d0b"
      },
      "execution_count": null,
      "outputs": [
        {
          "output_type": "stream",
          "name": "stdout",
          "text": [
            "Coefficients: [-0.053723746299794956,0.0,0.0,2.0602807489690473,-7.630972560150657,3.762376981390813,0.0,-0.6147167501359809,0.0,0.0,-0.8101066114516472,0.005343288597741152,-0.5566820334740052]\n",
            "Intercept: 25.570414429043705\n"
          ]
        }
      ]
    },
    {
      "cell_type": "markdown",
      "source": [
        "#Q5. Evaluate the Linear Regression model by getting the RMSE and R-squared values"
      ],
      "metadata": {
        "id": "0EEFqZyAgN76"
      }
    },
    {
      "cell_type": "code",
      "source": [
        "trainsummary = model.summary\n",
        "print(\"RMSE: %f\" % trainsummary.rootMeanSquaredError)\n",
        "print(\"r2: %f\" % trainsummary.r2)"
      ],
      "metadata": {
        "colab": {
          "base_uri": "https://localhost:8080/"
        },
        "id": "FLFGbIG8e_sF",
        "outputId": "75dbf10e-b695-4883-f4d1-508b8e64fbe5"
      },
      "execution_count": null,
      "outputs": [
        {
          "output_type": "stream",
          "name": "stdout",
          "text": [
            "RMSE: 5.042771\n",
            "r2: 0.690415\n"
          ]
        }
      ]
    },
    {
      "cell_type": "code",
      "source": [
        "train.describe().show()"
      ],
      "metadata": {
        "colab": {
          "base_uri": "https://localhost:8080/"
        },
        "id": "q-SnkVLhfGoF",
        "outputId": "4fbe09b5-ff5c-4077-ae02-ca8c73205a93"
      },
      "execution_count": null,
      "outputs": [
        {
          "output_type": "stream",
          "name": "stdout",
          "text": [
            "+-------+-----------------+\n",
            "|summary|               MV|\n",
            "+-------+-----------------+\n",
            "|  count|              341|\n",
            "|   mean|22.52903231704985|\n",
            "| stddev|9.076472953206931|\n",
            "|    min|              5.0|\n",
            "|    max|             50.0|\n",
            "+-------+-----------------+\n",
            "\n"
          ]
        }
      ]
    },
    {
      "cell_type": "code",
      "source": [
        "pred = model.transform(test)\n",
        "pred.select(\"prediction\",\"MV\",\"features\").show()\n",
        "from pyspark.ml.evaluation import RegressionEvaluator\n",
        "eval = RegressionEvaluator(predictionCol=\"prediction\", \n",
        "                 labelCol=\"MV\",metricName=\"r2\")\n",
        "print(\"R2 value of test data = %g\" % eval.evaluate(pred))"
      ],
      "metadata": {
        "colab": {
          "base_uri": "https://localhost:8080/"
        },
        "id": "BV97MLAEfJ3i",
        "outputId": "f02bb5bc-229e-496c-9f03-14bd67474d17"
      },
      "execution_count": null,
      "outputs": [
        {
          "output_type": "stream",
          "name": "stdout",
          "text": [
            "+------------------+-----------+--------------------+\n",
            "|        prediction|         MV|            features|\n",
            "+------------------+-----------+--------------------+\n",
            "|30.641891446541912|       24.0|[0.00632,18.0,2.3...|\n",
            "| 27.52105514687886|       22.0|[0.01096,55.0,2.2...|\n",
            "|30.469952973063748|29.10000038|[0.01439,60.0,2.9...|\n",
            "|27.066878220395914|       24.5|[0.01501,80.0,2.0...|\n",
            "| 40.09838486928804|       50.0|[0.01501,90.0,1.2...|\n",
            "| 34.16518637371465|       44.0|[0.01538,90.0,3.7...|\n",
            "| 26.00449470061726|       33.0|[0.019509999,17.5...|\n",
            "| 20.36718717414511|20.10000038|[0.019649999,80.0...|\n",
            "| 38.04991523308212|       50.0|[0.020090001,95.0...|\n",
            "|26.757480029973486|       16.5|[0.024979999,0.0,...|\n",
            "|20.233274835052804|       18.5|[0.030409999,0.0,...|\n",
            "|22.491961783436473|20.60000038|[0.033059999,0.0,...|\n",
            "| 31.59607438035372|34.90000153|[0.03359,75.0,2.9...|\n",
            "|24.721680667337782|19.39999962|[0.03466,35.0,6.0...|\n",
            "| 22.69352515469241|20.89999962|[0.03548,80.0,3.6...|\n",
            "| 25.69607592123404|24.79999924|[0.036589999,25.0...|\n",
            "|24.781504571410974|19.79999924|[0.04544,0.0,3.24...|\n",
            "| 26.18100770183349|22.29999924|[0.045899998,52.5...|\n",
            "| 24.41349982689958|23.39999962|[0.04981,21.0,5.6...|\n",
            "| 21.10708924473043|17.10000038|[0.05023,35.0,6.0...|\n",
            "+------------------+-----------+--------------------+\n",
            "only showing top 20 rows\n",
            "\n",
            "R2 value of test data = 0.754775\n"
          ]
        }
      ]
    },
    {
      "cell_type": "code",
      "source": [
        "re = model.evaluate(test)\n",
        "print(\"Root Mean Squared Error (RMSE) of test data = %g\" % re.rootMeanSquaredError)"
      ],
      "metadata": {
        "colab": {
          "base_uri": "https://localhost:8080/"
        },
        "id": "2LGQGt7BfLrm",
        "outputId": "e2051263-0e6d-4818-aea1-ce10f31a6ccd"
      },
      "execution_count": null,
      "outputs": [
        {
          "output_type": "stream",
          "name": "stdout",
          "text": [
            "Root Mean Squared Error (RMSE) of test data = 4.67511\n"
          ]
        }
      ]
    },
    {
      "cell_type": "code",
      "source": [
        "print(\"number of Iterations: %d\" % trainsummary.totalIterations)\n",
        "print(\"objective History: %s\" % str(trainsummary.objectiveHistory))\n",
        "trainsummary.residuals.show()"
      ],
      "metadata": {
        "colab": {
          "base_uri": "https://localhost:8080/"
        },
        "id": "3QCF_nGnfQFo",
        "outputId": "071a7ac1-570c-4dc4-ba41-5da4b9a7fd16"
      },
      "execution_count": null,
      "outputs": [
        {
          "output_type": "stream",
          "name": "stdout",
          "text": [
            "number of Iterations: 10\n",
            "objective History: [0.5, 0.43461147355104723, 0.24618853800263268, 0.22416027746784492, 0.1969253912938525, 0.19408071331248103, 0.19258482955564177, 0.19192681187627247, 0.19128108115114573, 0.19111806743798157, 0.19080669350042]\n",
            "+-------------------+\n",
            "|          residuals|\n",
            "+-------------------+\n",
            "| 2.1621368688234206|\n",
            "| 1.0897448061170998|\n",
            "|  6.041028364694252|\n",
            "|  2.017073694931515|\n",
            "| 12.706440936072212|\n",
            "| 0.9718435074816298|\n",
            "|  4.022893467969794|\n",
            "| 2.4615583396593586|\n",
            "|-2.5200387252689715|\n",
            "|-1.0019432413101583|\n",
            "|  6.647411235572854|\n",
            "| 0.1657938453761254|\n",
            "|-3.5108143061414587|\n",
            "| 3.2949817266537416|\n",
            "| -4.107663753047955|\n",
            "| 2.1202483715110816|\n",
            "|-2.0595009818825503|\n",
            "| 0.7572241727769686|\n",
            "| 2.1040388192063624|\n",
            "| 2.1875704688040045|\n",
            "+-------------------+\n",
            "only showing top 20 rows\n",
            "\n"
          ]
        }
      ]
    },
    {
      "cell_type": "code",
      "source": [
        "pred = model.transform(test)\n",
        "pred.select(\"prediction\",\"MV\",\"features\").show()"
      ],
      "metadata": {
        "colab": {
          "base_uri": "https://localhost:8080/"
        },
        "id": "Bv-JnEUZfRwe",
        "outputId": "57ab8d62-199c-43d9-d1cb-d63702d009ae"
      },
      "execution_count": null,
      "outputs": [
        {
          "output_type": "stream",
          "name": "stdout",
          "text": [
            "+------------------+-----------+--------------------+\n",
            "|        prediction|         MV|            features|\n",
            "+------------------+-----------+--------------------+\n",
            "|30.641891446541912|       24.0|[0.00632,18.0,2.3...|\n",
            "| 27.52105514687886|       22.0|[0.01096,55.0,2.2...|\n",
            "|30.469952973063748|29.10000038|[0.01439,60.0,2.9...|\n",
            "|27.066878220395914|       24.5|[0.01501,80.0,2.0...|\n",
            "| 40.09838486928804|       50.0|[0.01501,90.0,1.2...|\n",
            "| 34.16518637371465|       44.0|[0.01538,90.0,3.7...|\n",
            "| 26.00449470061726|       33.0|[0.019509999,17.5...|\n",
            "| 20.36718717414511|20.10000038|[0.019649999,80.0...|\n",
            "| 38.04991523308212|       50.0|[0.020090001,95.0...|\n",
            "|26.757480029973486|       16.5|[0.024979999,0.0,...|\n",
            "|20.233274835052804|       18.5|[0.030409999,0.0,...|\n",
            "|22.491961783436473|20.60000038|[0.033059999,0.0,...|\n",
            "| 31.59607438035372|34.90000153|[0.03359,75.0,2.9...|\n",
            "|24.721680667337782|19.39999962|[0.03466,35.0,6.0...|\n",
            "| 22.69352515469241|20.89999962|[0.03548,80.0,3.6...|\n",
            "| 25.69607592123404|24.79999924|[0.036589999,25.0...|\n",
            "|24.781504571410974|19.79999924|[0.04544,0.0,3.24...|\n",
            "| 26.18100770183349|22.29999924|[0.045899998,52.5...|\n",
            "| 24.41349982689958|23.39999962|[0.04981,21.0,5.6...|\n",
            "| 21.10708924473043|17.10000038|[0.05023,35.0,6.0...|\n",
            "+------------------+-----------+--------------------+\n",
            "only showing top 20 rows\n",
            "\n"
          ]
        }
      ]
    },
    {
      "cell_type": "code",
      "source": [
        "from pyspark.ml.regression import DecisionTreeRegressor\n",
        "dt = DecisionTreeRegressor(featuresCol ='features', labelCol = 'MV')\n",
        "dt_model = dt.fit(train)\n",
        "dt_predictions = dt_model.transform(test)\n",
        "dt_evaluator = RegressionEvaluator(\n",
        "    labelCol=\"MV\", predictionCol=\"prediction\", metricName=\"rmse\")\n",
        "rmse = dt_evaluator.evaluate(dt_predictions)\n",
        "print(\"Root Mean Squared Error (RMSE) of test data = %g\" % rmse)"
      ],
      "metadata": {
        "colab": {
          "base_uri": "https://localhost:8080/"
        },
        "id": "2RkzYeiFfUP9",
        "outputId": "013a0a72-f668-4337-fce0-8f0b37811db8"
      },
      "execution_count": null,
      "outputs": [
        {
          "output_type": "stream",
          "name": "stdout",
          "text": [
            "Root Mean Squared Error (RMSE) of test data = 4.04924\n"
          ]
        }
      ]
    },
    {
      "cell_type": "code",
      "source": [
        ""
      ],
      "metadata": {
        "id": "Bw2dZQtCfXa9"
      },
      "execution_count": null,
      "outputs": []
    }
  ]
}